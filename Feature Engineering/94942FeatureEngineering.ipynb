{
 "cells": [
  {
   "cell_type": "code",
   "execution_count": 1,
   "metadata": {},
   "outputs": [],
   "source": [
    "%load_ext autoreload\n",
    "%autoreload 2"
   ]
  },
  {
   "cell_type": "code",
   "execution_count": 10,
   "metadata": {},
   "outputs": [],
   "source": [
    "%matplotlib inline\n",
    "\n",
    "from fastai.imports import *\n",
    "from fastai.tabular import  *\n",
    "from pandas_summary import DataFrameSummary\n",
    "from sklearn.ensemble import RandomForestRegressor, RandomForestClassifier,GradientBoostingClassifier\n",
    "from IPython.display import display\n",
    "from sklearn import metrics\n",
    "from sklearn.model_selection import StratifiedKFold\n",
    "from sklearn.model_selection import GridSearchCV\n",
    "import seaborn as sns\n",
    "import pylab as plot\n",
    "params = { \n",
    "    'axes.labelsize': \"large\",\n",
    "    'xtick.labelsize': 'x-large',\n",
    "    'legend.fontsize': 20,\n",
    "    'figure.dpi': 150,\n",
    "    'figure.figsize': [10, 6]\n",
    "}\n",
    "plot.rcParams.update(params)"
   ]
  },
  {
   "cell_type": "code",
   "execution_count": 11,
   "metadata": {},
   "outputs": [],
   "source": [
    "\n",
    "PATH = \"./Kaggle/Titanic/data/\"\n",
    "train_raw=pd.read_csv('traindata.csv',low_memory=False)\n",
    "test_raw=pd.read_csv('testdata.csv',low_memory=False)"
   ]
  },
  {
   "cell_type": "code",
   "execution_count": 12,
   "metadata": {},
   "outputs": [
    {
     "data": {
      "text/plain": [
       "((891, 12), (418, 11))"
      ]
     },
     "execution_count": 12,
     "metadata": {},
     "output_type": "execute_result"
    }
   ],
   "source": [
    "#check the size of the train and test data\n",
    "\n",
    "train_raw.shape, test_raw.shape"
   ]
  },
  {
   "cell_type": "code",
   "execution_count": 5,
   "metadata": {},
   "outputs": [
    {
     "data": {
      "text/html": [
       "<div>\n",
       "<style scoped>\n",
       "    .dataframe tbody tr th:only-of-type {\n",
       "        vertical-align: middle;\n",
       "    }\n",
       "\n",
       "    .dataframe tbody tr th {\n",
       "        vertical-align: top;\n",
       "    }\n",
       "\n",
       "    .dataframe thead th {\n",
       "        text-align: right;\n",
       "    }\n",
       "</style>\n",
       "<table border=\"1\" class=\"dataframe\">\n",
       "  <thead>\n",
       "    <tr style=\"text-align: right;\">\n",
       "      <th></th>\n",
       "      <th>PassengerId</th>\n",
       "      <th>Survived</th>\n",
       "      <th>Pclass</th>\n",
       "      <th>Name</th>\n",
       "      <th>Sex</th>\n",
       "      <th>Age</th>\n",
       "      <th>SibSp</th>\n",
       "      <th>Parch</th>\n",
       "      <th>Ticket</th>\n",
       "      <th>Fare</th>\n",
       "      <th>Cabin</th>\n",
       "      <th>Embarked</th>\n",
       "    </tr>\n",
       "  </thead>\n",
       "  <tbody>\n",
       "    <tr>\n",
       "      <th>0</th>\n",
       "      <td>1</td>\n",
       "      <td>0</td>\n",
       "      <td>3</td>\n",
       "      <td>Braund, Mr. Owen Harris</td>\n",
       "      <td>male</td>\n",
       "      <td>22.0</td>\n",
       "      <td>1</td>\n",
       "      <td>0</td>\n",
       "      <td>A/5 21171</td>\n",
       "      <td>7.2500</td>\n",
       "      <td>NaN</td>\n",
       "      <td>S</td>\n",
       "    </tr>\n",
       "    <tr>\n",
       "      <th>1</th>\n",
       "      <td>2</td>\n",
       "      <td>1</td>\n",
       "      <td>1</td>\n",
       "      <td>Cumings, Mrs. John Bradley (Florence Briggs Th...</td>\n",
       "      <td>female</td>\n",
       "      <td>38.0</td>\n",
       "      <td>1</td>\n",
       "      <td>0</td>\n",
       "      <td>PC 17599</td>\n",
       "      <td>71.2833</td>\n",
       "      <td>C85</td>\n",
       "      <td>C</td>\n",
       "    </tr>\n",
       "    <tr>\n",
       "      <th>2</th>\n",
       "      <td>3</td>\n",
       "      <td>1</td>\n",
       "      <td>3</td>\n",
       "      <td>Heikkinen, Miss. Laina</td>\n",
       "      <td>female</td>\n",
       "      <td>26.0</td>\n",
       "      <td>0</td>\n",
       "      <td>0</td>\n",
       "      <td>STON/O2. 3101282</td>\n",
       "      <td>7.9250</td>\n",
       "      <td>NaN</td>\n",
       "      <td>S</td>\n",
       "    </tr>\n",
       "    <tr>\n",
       "      <th>3</th>\n",
       "      <td>4</td>\n",
       "      <td>1</td>\n",
       "      <td>1</td>\n",
       "      <td>Futrelle, Mrs. Jacques Heath (Lily May Peel)</td>\n",
       "      <td>female</td>\n",
       "      <td>35.0</td>\n",
       "      <td>1</td>\n",
       "      <td>0</td>\n",
       "      <td>113803</td>\n",
       "      <td>53.1000</td>\n",
       "      <td>C123</td>\n",
       "      <td>S</td>\n",
       "    </tr>\n",
       "    <tr>\n",
       "      <th>4</th>\n",
       "      <td>5</td>\n",
       "      <td>0</td>\n",
       "      <td>3</td>\n",
       "      <td>Allen, Mr. William Henry</td>\n",
       "      <td>male</td>\n",
       "      <td>35.0</td>\n",
       "      <td>0</td>\n",
       "      <td>0</td>\n",
       "      <td>373450</td>\n",
       "      <td>8.0500</td>\n",
       "      <td>NaN</td>\n",
       "      <td>S</td>\n",
       "    </tr>\n",
       "  </tbody>\n",
       "</table>\n",
       "</div>"
      ],
      "text/plain": [
       "   PassengerId  Survived  Pclass  \\\n",
       "0            1         0       3   \n",
       "1            2         1       1   \n",
       "2            3         1       3   \n",
       "3            4         1       1   \n",
       "4            5         0       3   \n",
       "\n",
       "                                                Name     Sex   Age  SibSp  \\\n",
       "0                            Braund, Mr. Owen Harris    male  22.0      1   \n",
       "1  Cumings, Mrs. John Bradley (Florence Briggs Th...  female  38.0      1   \n",
       "2                             Heikkinen, Miss. Laina  female  26.0      0   \n",
       "3       Futrelle, Mrs. Jacques Heath (Lily May Peel)  female  35.0      1   \n",
       "4                           Allen, Mr. William Henry    male  35.0      0   \n",
       "\n",
       "   Parch            Ticket     Fare Cabin Embarked  \n",
       "0      0         A/5 21171   7.2500   NaN        S  \n",
       "1      0          PC 17599  71.2833   C85        C  \n",
       "2      0  STON/O2. 3101282   7.9250   NaN        S  \n",
       "3      0            113803  53.1000  C123        S  \n",
       "4      0            373450   8.0500   NaN        S  "
      ]
     },
     "execution_count": 5,
     "metadata": {},
     "output_type": "execute_result"
    }
   ],
   "source": [
    "#check if the data loaded properly\n",
    "\n",
    "train_raw.head()"
   ]
  },
  {
   "cell_type": "code",
   "execution_count": 6,
   "metadata": {},
   "outputs": [
    {
     "data": {
      "text/html": [
       "<div>\n",
       "<style scoped>\n",
       "    .dataframe tbody tr th:only-of-type {\n",
       "        vertical-align: middle;\n",
       "    }\n",
       "\n",
       "    .dataframe tbody tr th {\n",
       "        vertical-align: top;\n",
       "    }\n",
       "\n",
       "    .dataframe thead th {\n",
       "        text-align: right;\n",
       "    }\n",
       "</style>\n",
       "<table border=\"1\" class=\"dataframe\">\n",
       "  <thead>\n",
       "    <tr style=\"text-align: right;\">\n",
       "      <th></th>\n",
       "      <th>PassengerId</th>\n",
       "      <th>Survived</th>\n",
       "      <th>Pclass</th>\n",
       "      <th>Age</th>\n",
       "      <th>SibSp</th>\n",
       "      <th>Parch</th>\n",
       "      <th>Fare</th>\n",
       "    </tr>\n",
       "  </thead>\n",
       "  <tbody>\n",
       "    <tr>\n",
       "      <th>count</th>\n",
       "      <td>891.000000</td>\n",
       "      <td>891.000000</td>\n",
       "      <td>891.000000</td>\n",
       "      <td>714.000000</td>\n",
       "      <td>891.000000</td>\n",
       "      <td>891.000000</td>\n",
       "      <td>891.000000</td>\n",
       "    </tr>\n",
       "    <tr>\n",
       "      <th>mean</th>\n",
       "      <td>446.000000</td>\n",
       "      <td>0.383838</td>\n",
       "      <td>2.308642</td>\n",
       "      <td>29.699118</td>\n",
       "      <td>0.523008</td>\n",
       "      <td>0.381594</td>\n",
       "      <td>32.204208</td>\n",
       "    </tr>\n",
       "    <tr>\n",
       "      <th>std</th>\n",
       "      <td>257.353842</td>\n",
       "      <td>0.486592</td>\n",
       "      <td>0.836071</td>\n",
       "      <td>14.526497</td>\n",
       "      <td>1.102743</td>\n",
       "      <td>0.806057</td>\n",
       "      <td>49.693429</td>\n",
       "    </tr>\n",
       "    <tr>\n",
       "      <th>min</th>\n",
       "      <td>1.000000</td>\n",
       "      <td>0.000000</td>\n",
       "      <td>1.000000</td>\n",
       "      <td>0.420000</td>\n",
       "      <td>0.000000</td>\n",
       "      <td>0.000000</td>\n",
       "      <td>0.000000</td>\n",
       "    </tr>\n",
       "    <tr>\n",
       "      <th>25%</th>\n",
       "      <td>223.500000</td>\n",
       "      <td>0.000000</td>\n",
       "      <td>2.000000</td>\n",
       "      <td>20.125000</td>\n",
       "      <td>0.000000</td>\n",
       "      <td>0.000000</td>\n",
       "      <td>7.910400</td>\n",
       "    </tr>\n",
       "    <tr>\n",
       "      <th>50%</th>\n",
       "      <td>446.000000</td>\n",
       "      <td>0.000000</td>\n",
       "      <td>3.000000</td>\n",
       "      <td>28.000000</td>\n",
       "      <td>0.000000</td>\n",
       "      <td>0.000000</td>\n",
       "      <td>14.454200</td>\n",
       "    </tr>\n",
       "    <tr>\n",
       "      <th>75%</th>\n",
       "      <td>668.500000</td>\n",
       "      <td>1.000000</td>\n",
       "      <td>3.000000</td>\n",
       "      <td>38.000000</td>\n",
       "      <td>1.000000</td>\n",
       "      <td>0.000000</td>\n",
       "      <td>31.000000</td>\n",
       "    </tr>\n",
       "    <tr>\n",
       "      <th>max</th>\n",
       "      <td>891.000000</td>\n",
       "      <td>1.000000</td>\n",
       "      <td>3.000000</td>\n",
       "      <td>80.000000</td>\n",
       "      <td>8.000000</td>\n",
       "      <td>6.000000</td>\n",
       "      <td>512.329200</td>\n",
       "    </tr>\n",
       "  </tbody>\n",
       "</table>\n",
       "</div>"
      ],
      "text/plain": [
       "       PassengerId    Survived      Pclass         Age       SibSp  \\\n",
       "count   891.000000  891.000000  891.000000  714.000000  891.000000   \n",
       "mean    446.000000    0.383838    2.308642   29.699118    0.523008   \n",
       "std     257.353842    0.486592    0.836071   14.526497    1.102743   \n",
       "min       1.000000    0.000000    1.000000    0.420000    0.000000   \n",
       "25%     223.500000    0.000000    2.000000   20.125000    0.000000   \n",
       "50%     446.000000    0.000000    3.000000   28.000000    0.000000   \n",
       "75%     668.500000    1.000000    3.000000   38.000000    1.000000   \n",
       "max     891.000000    1.000000    3.000000   80.000000    8.000000   \n",
       "\n",
       "            Parch        Fare  \n",
       "count  891.000000  891.000000  \n",
       "mean     0.381594   32.204208  \n",
       "std      0.806057   49.693429  \n",
       "min      0.000000    0.000000  \n",
       "25%      0.000000    7.910400  \n",
       "50%      0.000000   14.454200  \n",
       "75%      0.000000   31.000000  \n",
       "max      6.000000  512.329200  "
      ]
     },
     "execution_count": 6,
     "metadata": {},
     "output_type": "execute_result"
    }
   ],
   "source": [
    "train_raw.describe()"
   ]
  },
  {
   "cell_type": "code",
   "execution_count": 7,
   "metadata": {},
   "outputs": [],
   "source": [
    "data = train_raw\n",
    "data['Died']= 1 - data['Survived']"
   ]
  },
  {
   "cell_type": "code",
   "execution_count": 8,
   "metadata": {},
   "outputs": [
    {
     "data": {
      "text/html": [
       "<div>\n",
       "<style scoped>\n",
       "    .dataframe tbody tr th:only-of-type {\n",
       "        vertical-align: middle;\n",
       "    }\n",
       "\n",
       "    .dataframe tbody tr th {\n",
       "        vertical-align: top;\n",
       "    }\n",
       "\n",
       "    .dataframe thead th {\n",
       "        text-align: right;\n",
       "    }\n",
       "</style>\n",
       "<table border=\"1\" class=\"dataframe\">\n",
       "  <thead>\n",
       "    <tr style=\"text-align: right;\">\n",
       "      <th></th>\n",
       "      <th>PassengerId</th>\n",
       "      <th>Survived</th>\n",
       "      <th>Pclass</th>\n",
       "      <th>Age</th>\n",
       "      <th>SibSp</th>\n",
       "      <th>Parch</th>\n",
       "      <th>Fare</th>\n",
       "      <th>Died</th>\n",
       "    </tr>\n",
       "  </thead>\n",
       "  <tbody>\n",
       "    <tr>\n",
       "      <th>count</th>\n",
       "      <td>891.000000</td>\n",
       "      <td>891.000000</td>\n",
       "      <td>891.000000</td>\n",
       "      <td>714.000000</td>\n",
       "      <td>891.000000</td>\n",
       "      <td>891.000000</td>\n",
       "      <td>891.000000</td>\n",
       "      <td>891.000000</td>\n",
       "    </tr>\n",
       "    <tr>\n",
       "      <th>mean</th>\n",
       "      <td>446.000000</td>\n",
       "      <td>0.383838</td>\n",
       "      <td>2.308642</td>\n",
       "      <td>29.699118</td>\n",
       "      <td>0.523008</td>\n",
       "      <td>0.381594</td>\n",
       "      <td>32.204208</td>\n",
       "      <td>0.616162</td>\n",
       "    </tr>\n",
       "    <tr>\n",
       "      <th>std</th>\n",
       "      <td>257.353842</td>\n",
       "      <td>0.486592</td>\n",
       "      <td>0.836071</td>\n",
       "      <td>14.526497</td>\n",
       "      <td>1.102743</td>\n",
       "      <td>0.806057</td>\n",
       "      <td>49.693429</td>\n",
       "      <td>0.486592</td>\n",
       "    </tr>\n",
       "    <tr>\n",
       "      <th>min</th>\n",
       "      <td>1.000000</td>\n",
       "      <td>0.000000</td>\n",
       "      <td>1.000000</td>\n",
       "      <td>0.420000</td>\n",
       "      <td>0.000000</td>\n",
       "      <td>0.000000</td>\n",
       "      <td>0.000000</td>\n",
       "      <td>0.000000</td>\n",
       "    </tr>\n",
       "    <tr>\n",
       "      <th>25%</th>\n",
       "      <td>223.500000</td>\n",
       "      <td>0.000000</td>\n",
       "      <td>2.000000</td>\n",
       "      <td>20.125000</td>\n",
       "      <td>0.000000</td>\n",
       "      <td>0.000000</td>\n",
       "      <td>7.910400</td>\n",
       "      <td>0.000000</td>\n",
       "    </tr>\n",
       "    <tr>\n",
       "      <th>50%</th>\n",
       "      <td>446.000000</td>\n",
       "      <td>0.000000</td>\n",
       "      <td>3.000000</td>\n",
       "      <td>28.000000</td>\n",
       "      <td>0.000000</td>\n",
       "      <td>0.000000</td>\n",
       "      <td>14.454200</td>\n",
       "      <td>1.000000</td>\n",
       "    </tr>\n",
       "    <tr>\n",
       "      <th>75%</th>\n",
       "      <td>668.500000</td>\n",
       "      <td>1.000000</td>\n",
       "      <td>3.000000</td>\n",
       "      <td>38.000000</td>\n",
       "      <td>1.000000</td>\n",
       "      <td>0.000000</td>\n",
       "      <td>31.000000</td>\n",
       "      <td>1.000000</td>\n",
       "    </tr>\n",
       "    <tr>\n",
       "      <th>max</th>\n",
       "      <td>891.000000</td>\n",
       "      <td>1.000000</td>\n",
       "      <td>3.000000</td>\n",
       "      <td>80.000000</td>\n",
       "      <td>8.000000</td>\n",
       "      <td>6.000000</td>\n",
       "      <td>512.329200</td>\n",
       "      <td>1.000000</td>\n",
       "    </tr>\n",
       "  </tbody>\n",
       "</table>\n",
       "</div>"
      ],
      "text/plain": [
       "       PassengerId    Survived      Pclass         Age       SibSp  \\\n",
       "count   891.000000  891.000000  891.000000  714.000000  891.000000   \n",
       "mean    446.000000    0.383838    2.308642   29.699118    0.523008   \n",
       "std     257.353842    0.486592    0.836071   14.526497    1.102743   \n",
       "min       1.000000    0.000000    1.000000    0.420000    0.000000   \n",
       "25%     223.500000    0.000000    2.000000   20.125000    0.000000   \n",
       "50%     446.000000    0.000000    3.000000   28.000000    0.000000   \n",
       "75%     668.500000    1.000000    3.000000   38.000000    1.000000   \n",
       "max     891.000000    1.000000    3.000000   80.000000    8.000000   \n",
       "\n",
       "            Parch        Fare        Died  \n",
       "count  891.000000  891.000000  891.000000  \n",
       "mean     0.381594   32.204208    0.616162  \n",
       "std      0.806057   49.693429    0.486592  \n",
       "min      0.000000    0.000000    0.000000  \n",
       "25%      0.000000    7.910400    0.000000  \n",
       "50%      0.000000   14.454200    1.000000  \n",
       "75%      0.000000   31.000000    1.000000  \n",
       "max      6.000000  512.329200    1.000000  "
      ]
     },
     "execution_count": 8,
     "metadata": {},
     "output_type": "execute_result"
    }
   ],
   "source": [
    "data.describe()"
   ]
  },
  {
   "cell_type": "code",
   "execution_count": 9,
   "metadata": {},
   "outputs": [
    {
     "ename": "SyntaxError",
     "evalue": "invalid syntax (<ipython-input-9-791b729af62b>, line 1)",
     "output_type": "error",
     "traceback": [
      "\u001b[1;36m  File \u001b[1;32m\"<ipython-input-9-791b729af62b>\"\u001b[1;36m, line \u001b[1;32m1\u001b[0m\n\u001b[1;33m    data.groudata:image/png;base64,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pby('Sex').agg('sum')[['Survived','Died']].plot(kind='bar',stacked=True)\u001b[0m\n\u001b[1;37m                                                                                                                                                                                                                                                 ^\u001b[0m\n\u001b[1;31mSyntaxError\u001b[0m\u001b[1;31m:\u001b[0m invalid syntax\n"
     ]
    }
   ],
   "source": [
    "data.groudata:image/png;base64,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pby('Sex').agg('sum')[['Survived','Died']].plot(kind='bar',stacked=True)"
   ]
  },
  {
   "cell_type": "code",
   "execution_count": null,
   "metadata": {},
   "outputs": [],
   "source": [
    "\n",
    "sns.violinplot(x='Sex', y='Age', hue='Survived',data=data,split=True)"
   ]
  },
  {
   "cell_type": "code",
   "execution_count": null,
   "metadata": {},
   "outputs": [],
   "source": [
    "#Check the Fare ticket of each passagener and see how it impact the survival.\n",
    "\n",
    "figure = plt.figure(figsize=(32,16))\n",
    "plt.hist([data[data['Survived'] == 1]['Fare'], data[data['Survived'] == 0]['Fare']], \n",
    "         stacked=True,\n",
    "         bins = 50, label = ['Survived','Dead'])\n",
    "plt.xlabel('Fare')\n",
    "plt.ylabel('Number of Passengers')\n",
    "plt.legend();"
   ]
  },
  {
   "cell_type": "code",
   "execution_count": null,
   "metadata": {},
   "outputs": [],
   "source": [
    "#combining age, fare and survival in one chart.\n",
    "\n",
    "plt.figure(figsize=(25, 7))\n",
    "ax = plt.subplot()\n",
    "\n",
    "ax.scatter(data[data['Survived'] == 1]['Age'], data[data['Survived'] == 1]['Fare'], \n",
    "           c='green', s=data[data['Survived'] == 1]['Fare'])\n",
    "ax.scatter(data[data['Survived'] == 0]['Age'], data[data['Survived'] == 0]['Fare'], \n",
    "           c='red', s=data[data['Survived'] == 0]['Fare']);"
   ]
  },
  {
   "cell_type": "code",
   "execution_count": null,
   "metadata": {},
   "outputs": [],
   "source": [
    "#ticket fare versues class\n",
    "\n",
    "ax = plt.subplot()\n",
    "ax.set_ylabel('Average fare')\n",
    "data.groupby('Pclass').mean()['Fare'].plot(kind='bar',ax=ax)"
   ]
  },
  {
   "cell_type": "markdown",
   "metadata": {},
   "source": [
    "# Feature Engenering"
   ]
  },
  {
   "cell_type": "code",
   "execution_count": null,
   "metadata": {},
   "outputs": [],
   "source": [
    "#Combining the test and train data to prepare the data for modeling.\n",
    "\n",
    "x_train = train_raw.drop(['Survived'],1)\n",
    "y_train = train_raw['Survived']\n",
    "x_test = test_raw"
   ]
  },
  {
   "cell_type": "code",
   "execution_count": null,
   "metadata": {},
   "outputs": [],
   "source": [
    "df_combined = x_train.append(x_test)\n",
    "df_combined.shape"
   ]
  },
  {
   "cell_type": "code",
   "execution_count": null,
   "metadata": {},
   "outputs": [],
   "source": [
    "\n",
    "def display_all(df):\n",
    "    with pd.option_context(\"display.max_rows\", 1000, \"display.max_columns\", 1000): \n",
    "        display(df)\n",
    "        display_all(df_combined.tail().T)"
   ]
  },
  {
   "cell_type": "code",
   "execution_count": null,
   "metadata": {},
   "outputs": [],
   "source": [
    "#train_cats module from fastai, which changes the strings in a dataframe to a \n",
    "#categorical values\n",
    "\n",
    "train_cats(df_combined)"
   ]
  },
  {
   "cell_type": "code",
   "execution_count": null,
   "metadata": {},
   "outputs": [],
   "source": [
    "#Check the missing data %\n",
    "display_all(df_combined.isnull().sum().sort_index()/len(df_combined))"
   ]
  },
  {
   "cell_type": "code",
   "execution_count": null,
   "metadata": {},
   "outputs": [],
   "source": [
    "df,y,nas = proc_df(df_combined,y_fld=None,ignore_flds=['Age','Name','Embarked','Cabin','Parch',\n",
    "                                                      'SibSp'])\n",
    "df.head()"
   ]
  },
  {
   "cell_type": "code",
   "execution_count": null,
   "metadata": {},
   "outputs": [],
   "source": [
    "def process_family():\n",
    "    \n",
    "    global df\n",
    "    # introducing a new feature : the size of families (including the passenger)\n",
    "    df['FamilySize'] = df['Parch'] + df['SibSp'] + 1\n",
    "    \n",
    "    # introducing other features based on the family size\n",
    "    df['Singleton'] = df['FamilySize'].map(lambda s: 1 if s == 1 else 0)\n",
    "    df['SmallFamily'] = df['FamilySize'].map(lambda s: 1 if 2 <= s <= 4 else 0)\n",
    "    df['LargeFamily'] = df['FamilySize'].map(lambda s: 1 if 5 <= s else 0)    \n",
    "    return df"
   ]
  },
  {
   "cell_type": "code",
   "execution_count": null,
   "metadata": {},
   "outputs": [],
   "source": [
    "df = process_family()"
   ]
  },
  {
   "cell_type": "code",
   "execution_count": 1,
   "metadata": {},
   "outputs": [],
   "source": [
    "def process_embarked():\n",
    "    global df\n",
    "    # two missing embarked values - filling them with the most frequent one in the train  set(S)\n",
    "    df.Embarked.fillna('S', inplace=True)\n",
    "    # dummy encoding \n",
    "    df_dummies = pd.get_dummies(df['Embarked'], prefix='Embarked')\n",
    "    df = pd.concat([df, df_dummies], axis=1)\n",
    "    df.drop('Embarked', axis=1, inplace=True)\n",
    "#     status('embarked')\n",
    "    return df"
   ]
  },
  {
   "cell_type": "code",
   "execution_count": null,
   "metadata": {},
   "outputs": [],
   "source": [
    "df = process_embarked()"
   ]
  },
  {
   "cell_type": "code",
   "execution_count": null,
   "metadata": {},
   "outputs": [],
   "source": [
    "def process_cabin():\n",
    "    global df    \n",
    "    # replacing missing cabins with U (for Uknown)\n",
    "    df.Cabin.fillna('T', inplace=True)\n",
    "    \n",
    "    # mapping each Cabin value with the cabin letter\n",
    "    df['Cabin'] = df['Cabin'].map(lambda c: c[0])\n",
    "    \n",
    "    # dummy encoding ...\n",
    "    cabin_dummies = pd.get_dummies(df['Cabin'], prefix='Cabin')    \n",
    "    df = pd.concat([df, cabin_dummies], axis=1)\n",
    "\n",
    "    df.drop('Cabin', axis=1, inplace=True)\n",
    "#     status('cabin')\n",
    "    return df"
   ]
  },
  {
   "cell_type": "code",
   "execution_count": null,
   "metadata": {},
   "outputs": [],
   "source": [
    "\n",
    "df = process_cabin()"
   ]
  },
  {
   "cell_type": "code",
   "execution_count": null,
   "metadata": {},
   "outputs": [],
   "source": [
    "titles = set()\n",
    "for name in df['Name']:\n",
    "    titles.add(name.split(',')[1].split('.')[0].strip())"
   ]
  },
  {
   "cell_type": "code",
   "execution_count": null,
   "metadata": {},
   "outputs": [],
   "source": [
    "Title_Dictionary = {\n",
    "    \"Capt\": \"Officer\",\n",
    "    \"Col\": \"Officer\",\n",
    "    \"Major\": \"Officer\",\n",
    "    \"Jonkheer\": \"Royalty\",\n",
    "    \"Don\": \"Royalty\",\n",
    "    \"Sir\" : \"Royalty\",\n",
    "    \"Dr\": \"Officer\",\n",
    "    \"Rev\": \"Officer\",\n",
    "    \"the Countess\":\"Royalty\",\n",
    "    \"Mme\": \"Mrs\",\n",
    "    \"Mlle\": \"Miss\",\n",
    "    \"Ms\": \"Mrs\",\n",
    "    \"Mr\" : \"Mr\",\n",
    "    \"Mrs\" : \"Mrs\",\n",
    "    \"Miss\" : \"Miss\",\n",
    "    \"Master\" : \"Master\",\n",
    "    \"Lady\" : \"Royalty\"\n",
    "}\n",
    "\n",
    "def get_titles():\n",
    "    # we extract the title from each name\n",
    "    df['Title'] = df['Name'].map(lambda name:name.split(',')[1].split('.')[0].strip())\n",
    "    \n",
    "    # a map of more aggregated title\n",
    "    # we map each title\n",
    "    df['Title'] = df.Title.map(Title_Dictionary)\n",
    "#     status('Title')\n",
    "    return df"
   ]
  },
  {
   "cell_type": "code",
   "execution_count": null,
   "metadata": {},
   "outputs": [],
   "source": [
    "\n",
    "df = get_titles()\n",
    "df.head()"
   ]
  },
  {
   "cell_type": "code",
   "execution_count": null,
   "metadata": {},
   "outputs": [],
   "source": [
    "#summarize the Age grouped by sex, class and title\n",
    "grouped_train = df.groupby(['Sex','Pclass','Title'])\n",
    "grouped_median_train = grouped_train.median()\n",
    "grouped_median_train = grouped_median_train.reset_index()[['Sex', 'Pclass', 'Title', 'Age']]"
   ]
  },
  {
   "cell_type": "code",
   "execution_count": null,
   "metadata": {},
   "outputs": [],
   "source": [
    "grouped_median_train.head()"
   ]
  },
  {
   "cell_type": "code",
   "execution_count": null,
   "metadata": {},
   "outputs": [],
   "source": [
    "df.head()"
   ]
  },
  {
   "cell_type": "code",
   "execution_count": null,
   "metadata": {},
   "outputs": [],
   "source": [
    "def fill_age(row):\n",
    "    condition = (\n",
    "        (grouped_median_train['Sex'] == row['Sex']) & \n",
    "        (grouped_median_train['Title'] == row['Title']) & \n",
    "        (grouped_median_train['Pclass'] == row['Pclass'])\n",
    "    ) \n",
    "    if np.isnan(grouped_median_train[condition]['Age'].values[0]):\n",
    "        print('true')\n",
    "        condition = (\n",
    "            (grouped_median_train['Sex'] == row['Sex']) & \n",
    "            (grouped_median_train['Pclass'] == row['Pclass'])\n",
    "        )\n",
    "\n",
    "    return grouped_median_train[condition]['Age'].values[0]\n",
    "\n",
    "\n",
    "def process_age():\n",
    "    global df\n",
    "    # a function that fills the missing values of the Age variable\n",
    "    df['Age'] = df.apply(lambda row: fill_age(row) if np.isnan(row['Age']) else row['Age'], axis=1)\n",
    "#     status('age')\n",
    "    return df"
   ]
  },
  {
   "cell_type": "code",
   "execution_count": null,
   "metadata": {},
   "outputs": [],
   "source": [
    "df = process_age()"
   ]
  },
  {
   "cell_type": "code",
   "execution_count": null,
   "metadata": {},
   "outputs": [],
   "source": [
    "display_all(df.isnull().sum().sort_index()/len(df))"
   ]
  },
  {
   "cell_type": "code",
   "execution_count": null,
   "metadata": {},
   "outputs": [],
   "source": [
    "df[df.Title.isnull()]"
   ]
  },
  {
   "cell_type": "code",
   "execution_count": null,
   "metadata": {},
   "outputs": [],
   "source": [
    "def process_names():\n",
    "    global df\n",
    "    # we clean the Name variable\n",
    "    df.drop('Name', axis=1, inplace=True)\n",
    "    \n",
    "    # encoding in dummy variable\n",
    "    titles_dummies = pd.get_dummies(df['Title'], prefix='Title')\n",
    "    df = pd.concat([df, titles_dummies], axis=1)\n",
    "    \n",
    "    # removing the title variable\n",
    "    df.drop('Title', axis=1, inplace=True)\n",
    "    \n",
    "#     status('names')\n",
    "    return df"
   ]
  },
  {
   "cell_type": "code",
   "execution_count": null,
   "metadata": {},
   "outputs": [],
   "source": [
    "\n",
    "df = process_names()"
   ]
  },
  {
   "cell_type": "code",
   "execution_count": null,
   "metadata": {},
   "outputs": [],
   "source": [
    "\n",
    "df.head()"
   ]
  },
  {
   "cell_type": "code",
   "execution_count": null,
   "metadata": {},
   "outputs": [],
   "source": [
    "display_all(df.isnull().sum().sort_index()/len(df))"
   ]
  },
  {
   "cell_type": "code",
   "execution_count": null,
   "metadata": {},
   "outputs": [],
   "source": [
    "x_train = df[:891].copy()\n",
    "x_test = df[891:].copy()\n",
    "x_train.shape,x_test.shape"
   ]
  },
  {
   "cell_type": "code",
   "execution_count": null,
   "metadata": {},
   "outputs": [],
   "source": [
    "def split_vals(a,n): return a[:n], a[n:]\n",
    "valid_count =60\n",
    "n_trn = len(x_train)-valid_count\n",
    "x_train1, x_valid1 = split_vals(x_train, n_trn)\n",
    "y_train1, y_valid1 = split_vals(y_train, n_trn)"
   ]
  },
  {
   "cell_type": "code",
   "execution_count": null,
   "metadata": {},
   "outputs": [],
   "source": [
    "x_train1.shape,y_train1.shape,x_valid1.shape,y_valid1.shape"
   ]
  },
  {
   "cell_type": "code",
   "execution_count": null,
   "metadata": {},
   "outputs": [],
   "source": [
    "m = RandomForestClassifier(n_estimators=180,min_samples_leaf=3,max_features=0.5,n_jobs=-1)\n",
    "m.fit(x_train1,y_train1)\n",
    "m.score(x_train1,y_train1)"
   ]
  },
  {
   "cell_type": "code",
   "execution_count": null,
   "metadata": {},
   "outputs": [],
   "source": [
    "y_predict=m.predict(x_valid1)\n",
    "from sklearn.metrics import accuracy_score\n",
    "accuracy_score(y_valid1,y_predict)"
   ]
  },
  {
   "cell_type": "code",
   "execution_count": null,
   "metadata": {},
   "outputs": [],
   "source": [
    "from sklearn.metrics import classification_report, confusion_matrix\n",
    "print(classification_report(y_valid1,y_predict))"
   ]
  },
  {
   "cell_type": "code",
   "execution_count": null,
   "metadata": {},
   "outputs": [],
   "source": [
    "print(confusion_matrix(y_valid1,y_predict))"
   ]
  },
  {
   "cell_type": "code",
   "execution_count": null,
   "metadata": {},
   "outputs": [],
   "source": [
    "fi = rf_feat_importance(m, x_train1); fi[:10]"
   ]
  },
  {
   "cell_type": "code",
   "execution_count": null,
   "metadata": {},
   "outputs": [],
   "source": [
    "def plot_fi(fi): return fi.plot('cols', 'imp', 'barh', figsize=(12,7), legend=False)\n",
    "plot_fi(fi[:30]);"
   ]
  },
  {
   "cell_type": "code",
   "execution_count": null,
   "metadata": {},
   "outputs": [],
   "source": [
    "to_keep = fi[fi.imp>0.01].cols; len(to_keep)\n",
    "to_keep"
   ]
  },
  {
   "cell_type": "code",
   "execution_count": null,
   "metadata": {},
   "outputs": [],
   "source": [
    "x_train = x_train[to_keep]\n",
    "x_train"
   ]
  },
  {
   "cell_type": "code",
   "execution_count": null,
   "metadata": {},
   "outputs": [],
   "source": [
    "m = RandomForestClassifier(n_estimators=200,min_samples_leaf=3,max_features=0.5,n_jobs=-1)\n",
    "m.fit(x_train,y_train)\n",
    "m.score(x_train,y_train)"
   ]
  },
  {
   "cell_type": "code",
   "execution_count": null,
   "metadata": {},
   "outputs": [],
   "source": [
    "x_test = x_test[to_keep]\n",
    "output=m.predict(x_test).astype(int)"
   ]
  },
  {
   "cell_type": "code",
   "execution_count": null,
   "metadata": {},
   "outputs": [],
   "source": [
    "\n",
    "output.size"
   ]
  },
  {
   "cell_type": "code",
   "execution_count": null,
   "metadata": {},
   "outputs": [],
   "source": [
    "aux=pd.read_csv(f'{PATH}test.csv',low_memory=False)\n",
    "df_output = pd.DataFrame()\n",
    "df_output['PassengerId'] = aux['PassengerId']\n",
    "df_output['Survived'] = output\n",
    "df_output[['PassengerId','Survived']].to_csv(f'{PATH}titanic_fastai2.csv', index=False)"
   ]
  }
 ],
 "metadata": {
  "kernelspec": {
   "display_name": "Python 3",
   "language": "python",
   "name": "python3"
  },
  "language_info": {
   "codemirror_mode": {
    "name": "ipython",
    "version": 3
   },
   "file_extension": ".py",
   "mimetype": "text/x-python",
   "name": "python",
   "nbconvert_exporter": "python",
   "pygments_lexer": "ipython3",
   "version": "3.7.0"
  }
 },
 "nbformat": 4,
 "nbformat_minor": 2
}
