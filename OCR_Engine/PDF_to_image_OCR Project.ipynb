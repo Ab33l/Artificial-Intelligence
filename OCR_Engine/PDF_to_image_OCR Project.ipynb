{
 "cells": [
  {
   "cell_type": "code",
   "execution_count": null,
   "id": "ce24adb5",
   "metadata": {},
   "outputs": [],
   "source": [
    "from pd2image import convert_from_path\n",
    "import pandas as pd"
   ]
  },
  {
   "cell_type": "markdown",
   "id": "8d53fbd7",
   "metadata": {},
   "source": [
    "### Get path to pdf and start conversion process"
   ]
  },
  {
   "cell_type": "code",
   "execution_count": null,
   "id": "0c143481",
   "metadata": {},
   "outputs": [],
   "source": [
    "pdfs = r'\"C:\\User\\Path_to_PDF.pdf\"'\n",
    "pages = convert_from_path(pdfs, 350)"
   ]
  },
  {
   "cell_type": "markdown",
   "id": "6d3f5f14",
   "metadata": {},
   "source": [
    "Convert each page on pdf document to jpg image"
   ]
  },
  {
   "cell_type": "code",
   "execution_count": null,
   "id": "3e86c0f3",
   "metadata": {},
   "outputs": [],
   "source": [
    "i = 1\n",
    "for page in pages:\n",
    "    image_name = \"Page_\" + str(i) + \".jpg\"\n",
    "    page.save(image_name, \"JPEG\")\n",
    "    i = i+1"
   ]
  },
  {
   "cell_type": "code",
   "execution_count": null,
   "id": "fbccd933",
   "metadata": {},
   "outputs": [],
   "source": [
    "import cv2\n",
    "import matplotlib.pyplot as plt"
   ]
  },
  {
   "cell_type": "markdown",
   "id": "0e038bd4",
   "metadata": {},
   "source": [
    "### Select image pages of PDF converted to image and apply above method"
   ]
  },
  {
   "cell_type": "code",
   "execution_count": null,
   "id": "a492c436",
   "metadata": {},
   "outputs": [],
   "source": [
    "FILENAME = \"C\\User\\Path_to_image_Page_1.jpg\"\n",
    "image = cv2.imread(FILENAME,0)\n",
    "plot1 = plt.imshow(cv2.cvtColor(img, cv2.COLOR_BGR2RGB))\n",
    "plt.show()"
   ]
  },
  {
   "cell_type": "code",
   "execution_count": null,
   "id": "52ce1a2c",
   "metadata": {},
   "outputs": [],
   "source": [
    "thresh,img_bin = cv2.threshold(img,128,255,cv2.THRESH_BINARY)\n",
    "img_bin = 255 - img_bin\n",
    "plotting = plt.imshow(img_bin,cmap='gray')\n",
    "plt.title(\"Inverted Image with global thresh holding\")\n",
    "plt.show()"
   ]
  },
  {
   "cell_type": "code",
   "execution_count": null,
   "id": "3fde4ee6",
   "metadata": {},
   "outputs": [],
   "source": [
    "img_bin1 = 255 - img\n",
    "thresh1,img_bin1_otsu = cv2.threshold(img_bin1,128,255,cv2.THRESH_OTSU)\n",
    "plotting = plt.imshow(img_bin1_otsu,cmap='gray')\n",
    "plt.title(\"Inverted Image with otsu thresh holding\")\n",
    "plt.show()"
   ]
  },
  {
   "cell_type": "code",
   "execution_count": null,
   "id": "1ef5572a",
   "metadata": {},
   "outputs": [],
   "source": [
    "img_bin2 = 255 - img\n",
    "thresh1,img_bin_otsu = cv2.threshold(img_bin2,128,255,cv2.THRESH_BINARY | cv2.THRESH_OTSU)\n",
    "plotting = plt.imshow(img_bin_otsu,cmap='gray')\n",
    "plt.title(\"Inverted Image with otsu thresh holding\")\n",
    "plt.show()"
   ]
  },
  {
   "cell_type": "code",
   "execution_count": null,
   "id": "5e5ef652",
   "metadata": {},
   "outputs": [],
   "source": [
    "kernel = cv2.getStructuringElement(cv2.MORPH_RECT, (2,2))\n",
    "print(kernel)"
   ]
  },
  {
   "cell_type": "code",
   "execution_count": null,
   "id": "904758ed",
   "metadata": {},
   "outputs": [],
   "source": [
    "import numpy as np\n",
    "plt.figure(figsize = (30,30))\n",
    "\n",
    "vertical_kernel = cv2.getStructuringElement(cv2.MORPH_RECT, (1, np.array(img).shape[1]//100))\n",
    "eroded_image = cv2.erode(img_bin_otsu, vertical_kernel,iterations=3)\n",
    "plt.subplot(151),plt.imshow(eroded_image, cmap = 'gray')\n",
    "plt.title('Image after erosion with vertical kernel'), plt.xticks([]), plt.yticks([])\n",
    "\n",
    "vertical_lines = cv2.dilate(eroded_image, vertical_kernel, iterations=3)\n",
    "plt.subplot(152),plt.imshow(vertical_lines, cmap='gray')\n",
    "plt.title('Image after dilation with vertical kernel'), plt.xticks([]), plt.yticks([])\n",
    "\n",
    "plt.show()"
   ]
  },
  {
   "cell_type": "code",
   "execution_count": null,
   "id": "767d2443",
   "metadata": {},
   "outputs": [],
   "source": [
    "plt.figure(figsize = (30,30))\n",
    "\n",
    "hor_kernel = cv2.getStructuringElement(cv2.MORPH_RECT, (np.array(img).shape[1]//100, 1))\n",
    "horizontal_lines = cv2.erode(img_bin, hor_kernel, iterations=5)\n",
    "plt.subplot(153),plt.imshow(horizontal_lines, cmap='gray')\n",
    "plt.title('Image after erosion with horizontal kernel'), plt.xticks([]), plt.yticks([])\n",
    "\n",
    "horizontal_lines = cv2.dilate(horizontal_lines, hor_kernel, iterations=5)\n",
    "plt.subplot(153),plt.imshow(horizontal_lines, cmap='gray')\n",
    "plt.title('Image after erosion with horizontal kernel'), plt.xticks([]), plt.yticks([])\n",
    "\n",
    "plt.show()"
   ]
  },
  {
   "cell_type": "code",
   "execution_count": null,
   "id": "57c6d7b7",
   "metadata": {},
   "outputs": [],
   "source": [
    "plt.figure(figsize= (30,30))\n",
    "\n",
    "vertical_horizontal_lines = cv2.addWeighted(vertical_lines, 0.5, horizontal_lines, 0.5,0.0)\n",
    "vertical_horizontal_lines = cv2.erode(~vertical_horizontal_lines, kernel, iterations=3)\n",
    "plt.subplot(151),plt.imshow(vertical_horizontal_lines,cmap='gray')\n",
    "plt.title('Erosion'), plt.xticks([]), plt.yticks([])\n",
    "\n",
    "thresh, vertical_horizontal_lines = cv2.threshold(vertical_horizontal_lines,128,255, cv2.THRESH_BINARY | cv2.THRESH_OTSU)\n",
    "plt.subplot(152),plt.imshow(vertical_horizontal_lines,cmap='gray')\n",
    "plt.title('global and otsu threshold'), plt.xticks([]), plt.yticks([])\n",
    "\n",
    "bitxor = cv2.bitwise_xor(img,vertical_horizontal_lines)\n",
    "plt.subplot(153),plt.imshow(bitxor,cmap='gray')\n",
    "plt.title('Horizontal and vertical lines image bitxor'), plt.xticks([]), plt.yticks([])\n",
    "\n",
    "bitnot = cv2.bitwise_not(bitxor)\n",
    "plt.subplot(154),plt.imshow(bitxor,cmap='gray')\n",
    "plt.title('Horizontal and vertical lines image with bitnot'), plt.xticks([]), plt.yticks([])\n",
    "\n",
    "plt.show()"
   ]
  },
  {
   "cell_type": "code",
   "execution_count": null,
   "id": "153c0271",
   "metadata": {},
   "outputs": [],
   "source": [
    "### Import PyTesseract OCR Engine"
   ]
  },
  {
   "cell_type": "code",
   "execution_count": null,
   "id": "6ce73978",
   "metadata": {},
   "outputs": [],
   "source": [
    "import pytesseract\n",
    "pytesseract.pytesseract.tesseract_cmd = r'C\\User\\Path_to_tesseract.exe'"
   ]
  },
  {
   "cell_type": "code",
   "execution_count": null,
   "id": "d5d3c781",
   "metadata": {},
   "outputs": [],
   "source": [
    "contours, hierachy = cv2.findContours(vertical_horizontal_lines, cv2.RET_TREE,cv2.CHAIN_APPROX_SIMPLE)"
   ]
  },
  {
   "cell_type": "code",
   "execution_count": null,
   "id": "676842ae",
   "metadata": {},
   "outputs": [],
   "source": [
    "boundingBoxes = [cv2.boundingRect(contour) for contour in contours]\n",
    "(contours, boundingBoxes) = zip(*sorted(zip(contours,boundingBoxes),key=lambda x:x[1][1]))"
   ]
  },
  {
   "cell_type": "code",
   "execution_count": null,
   "id": "46a0e266",
   "metadata": {},
   "outputs": [],
   "source": [
    "boxes = []\n",
    "for contour in contours:\n",
    "    x,y,w,h = cv2.boundingRect(contour)\n",
    "    if(w<1000 and h<500):\n",
    "        image = cv2.rectangle(img,(x,y),(x+w,y+h),(0,255,0),2)\n",
    "        boxes.append([x,y,w,h])\n",
    "plotting = plt.imshow(image,cmap='gray')\n",
    "plt.title(\"Identified contours\")\n",
    "plt.show()"
   ]
  },
  {
   "cell_type": "code",
   "execution_count": null,
   "id": "58349ee0",
   "metadata": {},
   "outputs": [],
   "source": [
    "rows = []\n",
    "columns = []\n",
    "heights = [boundingBoxes[i][3] for i in range(len(boundingBoxes))]\n",
    "mean = np.mean(heights)\n",
    "print(mean)\n",
    "columns.append(boxes[0])\n",
    "previous=boxes[0]\n",
    "for i in range(1,len(boxes)):\n",
    "    if(boxes[i][1]<=previous[1]+mean/2):\n",
    "        columns.append(boxes[i])\n",
    "        previous=boxes[i]\n",
    "        if(i==len(boxes)-1):\n",
    "            rows.append(columns)\n",
    "        else:\n",
    "            rows.append(columns)\n",
    "            columns=[]\n",
    "            previous = boxes[i]\n",
    "            columns.append(boxes[i])\n",
    "print(\"Rows\")\n",
    "for row in rows:\n",
    "    print(row)"
   ]
  },
  {
   "cell_type": "code",
   "execution_count": null,
   "id": "3deb0fb0",
   "metadata": {},
   "outputs": [],
   "source": [
    "total_cells = 0\n",
    "total_cells=len(row)\n",
    "for i in range(len(row)):\n",
    "    #print(row[i])\n",
    "    if len(row[i]) > total_cells:\n",
    "        total_cells = len(row[i])\n",
    "        print(total_cells)\n",
    "print(total_cells)"
   ]
  },
  {
   "cell_type": "code",
   "execution_count": null,
   "id": "7e39aaf4",
   "metadata": {},
   "outputs": [],
   "source": [
    "center = [int(rows[i][j][0]+rows[i][j][2]/2) for j in range(len(rows[i])) if rows[0]]\n",
    "print(center)"
   ]
  },
  {
   "cell_type": "code",
   "execution_count": null,
   "id": "89e96aa1",
   "metadata": {},
   "outputs": [],
   "source": [
    "center=np.array(center)\n",
    "center.sort()\n",
    "print(center)"
   ]
  },
  {
   "cell_type": "code",
   "execution_count": null,
   "id": "f7ac0cac",
   "metadata": {},
   "outputs": [],
   "source": [
    "boxes_list = []\n",
    "for i in range(len(rows)):\n",
    "    l = [[] for _ in range(total_cells)] #Create list of empty sublists\n",
    "    for j in range(len(rows[i])):\n",
    "        diff = abs(center - (rows[i][j][0] + rows[i][j][2] / 4))\n",
    "        minimum = min(diff)\n",
    "        indexing = list(diff).index(minimum)\n",
    "        while indexing >= len(l): #Appending empty sublists until indexing is valid\n",
    "            l.append([])\n",
    "        l[indexing].append(rows[i][j])\n",
    "    boxes_list.append(l)\n",
    "for box in boxes_list:\n",
    "    print(box)"
   ]
  },
  {
   "cell_type": "code",
   "execution_count": null,
   "id": "de37b781",
   "metadata": {},
   "outputs": [],
   "source": [
    "dataframe_final = []\n",
    "for i in range(len(boxes_list)):\n",
    "    for j in range(len(boxes_list[i])):\n",
    "        s=''\n",
    "        if(len(boxes_list[i][j])==0):\n",
    "            dataframe_final.append(' ')\n",
    "        else:\n",
    "            for k in range(len(boxes_list[i][j])):\n",
    "                y,x,w,h = boxes_list[i][j][k][0],boxes_list[i][j][k][1], boxes[i][j][k][2],boxes_list[i][j][k][3]\n",
    "                roi = bitnot[x:x+h, y:y+w]\n",
    "                kernel = cv2.getStructuringElement(cv2.MORPH_RECT, (2,1))\n",
    "                border = cv2.copyMakeBorder(roi,2,2,2,2, cv2.BORDER_CONSTANT,value=[255,255])\n",
    "                resizing = cv2.resize(border, None, fx=2, fy=2, interpolation=cv2.INTER_CUBIC)\n",
    "                dilation = cv2.dilate(resizing,kernel,iterations=1)\n",
    "                erosion = cv2.erode(dilation,kernel,iterations=2)\n",
    "                out = pytesseract.image_to_string(erosion)\n",
    "                if(len(out)==0):\n",
    "                    out = pytesseract.image_to_string(erosion)\n",
    "                s = s+\" \"+ out\n",
    "            dataframe_final.append(s)\n",
    "print(dataframe_final)"
   ]
  },
  {
   "cell_type": "code",
   "execution_count": null,
   "id": "21891380",
   "metadata": {},
   "outputs": [],
   "source": [
    "arr = np.array(dataframe_final)\n",
    "arr"
   ]
  },
  {
   "cell_type": "code",
   "execution_count": null,
   "id": "b3576843",
   "metadata": {},
   "outputs": [],
   "source": [
    "new_rows = len(arr)//total_cells"
   ]
  },
  {
   "cell_type": "code",
   "execution_count": null,
   "id": "ec4bf52e",
   "metadata": {},
   "outputs": [],
   "source": [
    "import pandas as pd\n",
    "dataframe = pd.DataFrame(arr.reshape(new_rows, total_cells))\n",
    "data = dataframe.style.set_properties(align=\"left\")\n",
    "#print(data)\n",
    "#print(dataframe)\n",
    "d=[]\n",
    "for i in range(dataframe.shape[0]):\n",
    "    for j in range(dataframe.shape[1]):\n",
    "        print(dataframe.iloc[i,j],end=\" \")\n",
    "    print()"
   ]
  },
  {
   "cell_type": "code",
   "execution_count": null,
   "id": "2542e96c",
   "metadata": {},
   "outputs": [],
   "source": [
    "print(dataframe)"
   ]
  },
  {
   "cell_type": "code",
   "execution_count": null,
   "id": "c66361b0",
   "metadata": {},
   "outputs": [],
   "source": [
    "finaldf=dataframe\n",
    "finaldf.head()"
   ]
  },
  {
   "cell_type": "code",
   "execution_count": null,
   "id": "3fe56b18",
   "metadata": {},
   "outputs": [],
   "source": [
    "### Can perform the necessary data cleaning before exporting data to excel"
   ]
  },
  {
   "cell_type": "code",
   "execution_count": null,
   "id": "32cd1c84",
   "metadata": {},
   "outputs": [],
   "source": [
    "finaldf.to_excel(\"firstTest.xlsx\", index=False)"
   ]
  }
 ],
 "metadata": {
  "kernelspec": {
   "display_name": "Python 3 (ipykernel)",
   "language": "python",
   "name": "python3"
  },
  "language_info": {
   "codemirror_mode": {
    "name": "ipython",
    "version": 3
   },
   "file_extension": ".py",
   "mimetype": "text/x-python",
   "name": "python",
   "nbconvert_exporter": "python",
   "pygments_lexer": "ipython3",
   "version": "3.7.11"
  }
 },
 "nbformat": 4,
 "nbformat_minor": 5
}
