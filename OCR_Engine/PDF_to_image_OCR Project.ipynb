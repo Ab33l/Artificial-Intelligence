{
 "cells": [
  {
   "cell_type": "code",
   "execution_count": null,
   "id": "ce24adb5",
   "metadata": {},
   "outputs": [],
   "source": [
    "from pd2image import convert_from_path\n",
    "import pandas as pd"
   ]
  },
  {
   "cell_type": "markdown",
   "id": "8d53fbd7",
   "metadata": {},
   "source": [
    "### Get path to pdf and start conversion process"
   ]
  },
  {
   "cell_type": "code",
   "execution_count": null,
   "id": "0c143481",
   "metadata": {},
   "outputs": [],
   "source": [
    "pdfs = r'\"C:\\User\\Path_to_PDF.pdf\"'\n",
    "pages = convert_from_path(pdfs, 350)"
   ]
  },
  {
   "cell_type": "markdown",
   "id": "6d3f5f14",
   "metadata": {},
   "source": [
    "Convert each page on pdf document to jpg image"
   ]
  },
  {
   "cell_type": "code",
   "execution_count": null,
   "id": "3e86c0f3",
   "metadata": {},
   "outputs": [],
   "source": [
    "i = 1\n",
    "for page in pages:\n",
    "    image_name = \"Page_\" + str(i) + \".jpg\"\n",
    "    page.save(image_name, \"JPEG\")\n",
    "    i = i+1"
   ]
  },
  {
   "cell_type": "code",
   "execution_count": null,
   "id": "fbccd933",
   "metadata": {},
   "outputs": [],
   "source": [
    "import cv2\n",
    "from PIL import Image\n",
    "import matplotlib.pyplot as plt"
   ]
  },
  {
   "cell_type": "markdown",
   "id": "6baeb588",
   "metadata": {},
   "source": [
    "### Mark/specify regions on image that OCR Engine would extract info "
   ]
  },
  {
   "cell_type": "code",
   "execution_count": null,
   "id": "307003c8",
   "metadata": {},
   "outputs": [],
   "source": [
    "def mark_region(image_path):\n",
    "    \n",
    "    image = cv2.imread(image_path)\n",
    "    \n",
    "    # Define threshold of regions to ignore\n",
    "    THRESHOLD_REGION_IGNORE = 40\n",
    "    \n",
    "    gray = cv2.cvtColor(image, cv2.COLOR_BGR2GRAY)\n",
    "    blur = cv2.GaussianBlur(gray, (9,9), 0)\n",
    "    thresh = cv2.adaptiveThreshold(blur,255,cv2.ADAPTIVE_THRESH_GAUSSIAN_C, cv2.THRESH_BINARY_INV,11,30)\n",
    "    \n",
    "    # Dilate to combine adjascent text contours\n",
    "    kernel = cv2.getStructuringElement(cv2.MORPH_RECT, (9,9))\n",
    "    dilate = cv2.dilate(thresh, kernel, iterations=4)\n",
    "    \n",
    "    # Find contours, highlight text areas, and extract ROIs\n",
    "    cnts = cv2.findContours(dilate, cv2.RETR_EXTERNAL, cv2.CHAIN_APPROX_SIMPLE)\n",
    "    cnts = cnts[0] if len(cnts) == 2 else cnts[1]\n",
    "    \n",
    "    line_items_coordinates = []\n",
    "    for c in cnts:\n",
    "        area = cv2.contourArea(c)\n",
    "        x,y,w,h = cv2.boundingRect(c)\n",
    "        \n",
    "        if w < THRESHOLD_REGION_IGNORE or h < THRESHOLD_REGION_IGNORE:\n",
    "            continue\n",
    "            \n",
    "        image = cv2.rectangle(image, (x,y), (x+w, y+h), color=(255,0,255), thickness=3)\n",
    "        line_items_coordinates.append([(x,y), (x+w, y+h)])\n",
    "        \n",
    "    return image, line_items_coordinates"
   ]
  },
  {
   "cell_type": "markdown",
   "id": "0e038bd4",
   "metadata": {},
   "source": [
    "### Select image pages of PDF converted to image and apply above method"
   ]
  },
  {
   "cell_type": "code",
   "execution_count": null,
   "id": "a492c436",
   "metadata": {},
   "outputs": [],
   "source": [
    "FILENAME = \"C\\User\\Path_to_image_Page_1.jpg\"\n",
    "image, line_items_coordinates = mark_region(FILENAME)\n",
    "plt.figure(figsize=(20,20))\n",
    "plt.imshow(image)"
   ]
  },
  {
   "cell_type": "markdown",
   "id": "82e7959d",
   "metadata": {},
   "source": [
    "### View coordinates marked"
   ]
  },
  {
   "cell_type": "code",
   "execution_count": null,
   "id": "e6ae7ffc",
   "metadata": {},
   "outputs": [],
   "source": [
    "print(line_items_coordinates)"
   ]
  },
  {
   "cell_type": "code",
   "execution_count": null,
   "id": "153c0271",
   "metadata": {},
   "outputs": [],
   "source": [
    "### Import PyTesseract OCR Engine"
   ]
  },
  {
   "cell_type": "code",
   "execution_count": null,
   "id": "6ce73978",
   "metadata": {},
   "outputs": [],
   "source": [
    "import pytesseract\n",
    "pytesseract.pytesseract.tesseract_cmd = r'C\\User\\Path_to_tesseract.exe'"
   ]
  },
  {
   "cell_type": "markdown",
   "id": "326b1a6d",
   "metadata": {},
   "source": [
    "### Load the original image and loop through and print marked regions"
   ]
  },
  {
   "cell_type": "code",
   "execution_count": null,
   "id": "01833d5a",
   "metadata": {},
   "outputs": [],
   "source": [
    "image = cv2.imread('Page_1.jpg')"
   ]
  },
  {
   "cell_type": "code",
   "execution_count": null,
   "id": "a4d5c6f0",
   "metadata": {},
   "outputs": [],
   "source": [
    "no_of_coordinates = len(line_items_coordinates)\n",
    "for coordinate_point in range(no_of_coordinates):\n",
    "    #get co-ordinates to crop the image\n",
    "    c = line_items_coordinates[coordinate_point]\n",
    "    # cropping image img = image[y0:y1, x0:x1]\n",
    "    img = image[c[0][1]:c[1][1], c[0][0]:c[1][0]]\n",
    "    plt.figure(figsize=(10,10))\n",
    "    plt.imshow(img)"
   ]
  }
 ],
 "metadata": {
  "kernelspec": {
   "display_name": "Python 3 (ipykernel)",
   "language": "python",
   "name": "python3"
  },
  "language_info": {
   "codemirror_mode": {
    "name": "ipython",
    "version": 3
   },
   "file_extension": ".py",
   "mimetype": "text/x-python",
   "name": "python",
   "nbconvert_exporter": "python",
   "pygments_lexer": "ipython3",
   "version": "3.7.11"
  }
 },
 "nbformat": 4,
 "nbformat_minor": 5
}
